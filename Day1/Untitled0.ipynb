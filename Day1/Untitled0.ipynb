{
  "nbformat": 4,
  "nbformat_minor": 0,
  "metadata": {
    "colab": {
      "provenance": []
    },
    "kernelspec": {
      "name": "python3",
      "display_name": "Python 3"
    },
    "language_info": {
      "name": "python"
    }
  },
  "cells": [
    {
      "cell_type": "code",
      "execution_count": 5,
      "metadata": {
        "colab": {
          "base_uri": "https://localhost:8080/"
        },
        "id": "TLSrXPuEGfd1",
        "outputId": "05cc8690-7b23-4423-e2f6-b235aae0c0fc"
      },
      "outputs": [
        {
          "output_type": "stream",
          "name": "stdout",
          "text": [
            "tensor([[1, 2],\n",
            "        [3, 4]])\n",
            "tensor([[1, 0],\n",
            "        [3, 0]])\n",
            "tensor([[1, 3],\n",
            "        [3, 9]])\n",
            "tensor([[1, 3],\n",
            "        [3, 9]])\n"
          ]
        }
      ],
      "source": [
        "import torch\n",
        "\n",
        "d = [[1, 2], [3,4]]\n",
        "x = torch.tensor(d)\n",
        "print(x)\n",
        "t = x\n",
        "t[:,1] = 0\n",
        "print(t)\n",
        "y1 = t @ t.T\n",
        "y2 = t.matmul(t.T)\n",
        "\n",
        "print(y1)\n",
        "print(y2)"
      ]
    }
  ]
}